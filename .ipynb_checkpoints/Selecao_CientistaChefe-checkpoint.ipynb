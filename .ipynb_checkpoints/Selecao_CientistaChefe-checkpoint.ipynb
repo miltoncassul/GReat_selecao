{
 "cells": [
  {
   "cell_type": "markdown",
   "id": "c7e69500",
   "metadata": {},
   "source": [
    "### Seleção Cientista de Dados Projeto BigDataFortaleza\n",
    "\n",
    "Neste projeto, você trabalhará com uma versão levemente modificada dos dados\n",
    "coletados pelo Departamento de Polícia de Seattle e disponibilizados publicamente em\n",
    "seu próprio site [1]. Os dados para a prova estão no arquivo Use_Of_Force.csv (disponível em: [2]).\n",
    "\n",
    "Contexto\n",
    "Para facilitar a administração, o Departamento de Polícia de Seattle dividiu a cidade em 5 partes, cada uma com uma delegacia. Cada parte foi subdividida em setores, que por sua vez foram divididos em beats, somando um total de 17 setores e 51 beats (mais detalhes em [3]).\n",
    "\n",
    "Suponha que você esteja fazendo uma consultoria para a prefeitura de Seattle com o objetivo de automatizar o processo de geração de relatórios. Sua responsabilidade atual é lidar com dados que caracterizam o uso da força por parte da polícia."
   ]
  },
  {
   "cell_type": "code",
   "execution_count": 1,
   "id": "313e125a",
   "metadata": {},
   "outputs": [],
   "source": [
    "import pandas as pd\n",
    "import numpy as np\n",
    "import datetime as dt\n",
    "import matplotlib.pyplot as plt\n",
    "from datetime import datetime"
   ]
  },
  {
   "cell_type": "code",
   "execution_count": 2,
   "id": "471b3596",
   "metadata": {},
   "outputs": [],
   "source": [
    "df = pd.read_csv('Use_Of_Force.csv')"
   ]
  },
  {
   "cell_type": "code",
   "execution_count": 3,
   "id": "34b47205",
   "metadata": {},
   "outputs": [
    {
     "data": {
      "text/html": [
       "<div>\n",
       "<style scoped>\n",
       "    .dataframe tbody tr th:only-of-type {\n",
       "        vertical-align: middle;\n",
       "    }\n",
       "\n",
       "    .dataframe tbody tr th {\n",
       "        vertical-align: top;\n",
       "    }\n",
       "\n",
       "    .dataframe thead th {\n",
       "        text-align: right;\n",
       "    }\n",
       "</style>\n",
       "<table border=\"1\" class=\"dataframe\">\n",
       "  <thead>\n",
       "    <tr style=\"text-align: right;\">\n",
       "      <th></th>\n",
       "      <th>ID</th>\n",
       "      <th>Incident_Num</th>\n",
       "      <th>Incident_Type</th>\n",
       "      <th>Occured_date_time</th>\n",
       "      <th>Precinct</th>\n",
       "      <th>Sector</th>\n",
       "      <th>Beat</th>\n",
       "      <th>Officer_ID</th>\n",
       "      <th>Subject_ID</th>\n",
       "      <th>Subject_Race</th>\n",
       "      <th>Subject_Gender</th>\n",
       "    </tr>\n",
       "  </thead>\n",
       "  <tbody>\n",
       "    <tr>\n",
       "      <th>0</th>\n",
       "      <td>2014UOF-0001-1377-203</td>\n",
       "      <td>251</td>\n",
       "      <td>Level 1 - Use of Force</td>\n",
       "      <td>06/07/2014 12:09:00 AM</td>\n",
       "      <td>East</td>\n",
       "      <td>CHARLIE</td>\n",
       "      <td>C2</td>\n",
       "      <td>1594</td>\n",
       "      <td>203</td>\n",
       "      <td>Black or African American</td>\n",
       "      <td>Male</td>\n",
       "    </tr>\n",
       "    <tr>\n",
       "      <th>1</th>\n",
       "      <td>2014UOF-0002-1098-166</td>\n",
       "      <td>218</td>\n",
       "      <td>Level 1 - Use of Force</td>\n",
       "      <td>05/30/2014 02:06:00 PM</td>\n",
       "      <td>East</td>\n",
       "      <td>GEORGE</td>\n",
       "      <td>G1</td>\n",
       "      <td>1673</td>\n",
       "      <td>166</td>\n",
       "      <td>White</td>\n",
       "      <td>Male</td>\n",
       "    </tr>\n",
       "    <tr>\n",
       "      <th>2</th>\n",
       "      <td>2014UOF-0003-1031-125</td>\n",
       "      <td>178</td>\n",
       "      <td>Level 1 - Use of Force</td>\n",
       "      <td>05/23/2014 05:24:00 PM</td>\n",
       "      <td>West</td>\n",
       "      <td>KING</td>\n",
       "      <td>K3</td>\n",
       "      <td>1690</td>\n",
       "      <td>125</td>\n",
       "      <td>Asian</td>\n",
       "      <td>Female</td>\n",
       "    </tr>\n",
       "    <tr>\n",
       "      <th>3</th>\n",
       "      <td>2014UOF-0004-767-126</td>\n",
       "      <td>179</td>\n",
       "      <td>Level 1 - Use of Force</td>\n",
       "      <td>05/26/2014 12:10:00 AM</td>\n",
       "      <td>East</td>\n",
       "      <td>EDWARD</td>\n",
       "      <td>E2</td>\n",
       "      <td>953</td>\n",
       "      <td>126</td>\n",
       "      <td>Black or African American</td>\n",
       "      <td>Male</td>\n",
       "    </tr>\n",
       "    <tr>\n",
       "      <th>4</th>\n",
       "      <td>2014UOF-0005-1473-172</td>\n",
       "      <td>223</td>\n",
       "      <td>Level 1 - Use of Force</td>\n",
       "      <td>06/01/2014 04:03:00 PM</td>\n",
       "      <td>South</td>\n",
       "      <td>ROBERT</td>\n",
       "      <td>R1</td>\n",
       "      <td>1145</td>\n",
       "      <td>172</td>\n",
       "      <td>Black or African American</td>\n",
       "      <td>Male</td>\n",
       "    </tr>\n",
       "  </tbody>\n",
       "</table>\n",
       "</div>"
      ],
      "text/plain": [
       "                      ID  Incident_Num           Incident_Type  \\\n",
       "0  2014UOF-0001-1377-203           251  Level 1 - Use of Force   \n",
       "1  2014UOF-0002-1098-166           218  Level 1 - Use of Force   \n",
       "2  2014UOF-0003-1031-125           178  Level 1 - Use of Force   \n",
       "3   2014UOF-0004-767-126           179  Level 1 - Use of Force   \n",
       "4  2014UOF-0005-1473-172           223  Level 1 - Use of Force   \n",
       "\n",
       "        Occured_date_time Precinct   Sector Beat  Officer_ID  Subject_ID  \\\n",
       "0  06/07/2014 12:09:00 AM     East  CHARLIE   C2        1594         203   \n",
       "1  05/30/2014 02:06:00 PM     East   GEORGE   G1        1673         166   \n",
       "2  05/23/2014 05:24:00 PM     West     KING   K3        1690         125   \n",
       "3  05/26/2014 12:10:00 AM     East   EDWARD   E2         953         126   \n",
       "4  06/01/2014 04:03:00 PM    South   ROBERT   R1        1145         172   \n",
       "\n",
       "                Subject_Race Subject_Gender  \n",
       "0  Black or African American           Male  \n",
       "1                      White           Male  \n",
       "2                      Asian         Female  \n",
       "3  Black or African American           Male  \n",
       "4  Black or African American           Male  "
      ]
     },
     "execution_count": 3,
     "metadata": {},
     "output_type": "execute_result"
    }
   ],
   "source": [
    "df.head()"
   ]
  },
  {
   "cell_type": "code",
   "execution_count": 4,
   "id": "07b69724",
   "metadata": {},
   "outputs": [],
   "source": [
    "date_col = pd.DatetimeIndex(df['Occured_date_time'])"
   ]
  },
  {
   "cell_type": "code",
   "execution_count": 5,
   "id": "a0b84030",
   "metadata": {},
   "outputs": [],
   "source": [
    "df['Year'] = date_col.year"
   ]
  },
  {
   "cell_type": "code",
   "execution_count": 6,
   "id": "5957ba66",
   "metadata": {},
   "outputs": [],
   "source": [
    "df['Month'] = date_col.month"
   ]
  },
  {
   "cell_type": "code",
   "execution_count": 7,
   "id": "8dd5f803",
   "metadata": {},
   "outputs": [],
   "source": [
    "df['Day'] = date_col.day"
   ]
  },
  {
   "cell_type": "code",
   "execution_count": 15,
   "id": "77541b22",
   "metadata": {},
   "outputs": [
    {
     "data": {
      "text/html": [
       "<div>\n",
       "<style scoped>\n",
       "    .dataframe tbody tr th:only-of-type {\n",
       "        vertical-align: middle;\n",
       "    }\n",
       "\n",
       "    .dataframe tbody tr th {\n",
       "        vertical-align: top;\n",
       "    }\n",
       "\n",
       "    .dataframe thead th {\n",
       "        text-align: right;\n",
       "    }\n",
       "</style>\n",
       "<table border=\"1\" class=\"dataframe\">\n",
       "  <thead>\n",
       "    <tr style=\"text-align: right;\">\n",
       "      <th></th>\n",
       "      <th>ID</th>\n",
       "      <th>Incident_Num</th>\n",
       "      <th>Incident_Type</th>\n",
       "      <th>Occured_date_time</th>\n",
       "      <th>Precinct</th>\n",
       "      <th>Sector</th>\n",
       "      <th>Beat</th>\n",
       "      <th>Officer_ID</th>\n",
       "      <th>Subject_ID</th>\n",
       "      <th>Subject_Race</th>\n",
       "      <th>Subject_Gender</th>\n",
       "      <th>Year</th>\n",
       "      <th>Month</th>\n",
       "      <th>Day</th>\n",
       "    </tr>\n",
       "  </thead>\n",
       "  <tbody>\n",
       "    <tr>\n",
       "      <th>0</th>\n",
       "      <td>2014UOF-0001-1377-203</td>\n",
       "      <td>251</td>\n",
       "      <td>Level 1 - Use of Force</td>\n",
       "      <td>06/07/2014 12:09:00 AM</td>\n",
       "      <td>East</td>\n",
       "      <td>CHARLIE</td>\n",
       "      <td>C2</td>\n",
       "      <td>1594</td>\n",
       "      <td>203</td>\n",
       "      <td>Black or African American</td>\n",
       "      <td>Male</td>\n",
       "      <td>2014</td>\n",
       "      <td>6</td>\n",
       "      <td>7</td>\n",
       "    </tr>\n",
       "    <tr>\n",
       "      <th>1</th>\n",
       "      <td>2014UOF-0002-1098-166</td>\n",
       "      <td>218</td>\n",
       "      <td>Level 1 - Use of Force</td>\n",
       "      <td>05/30/2014 02:06:00 PM</td>\n",
       "      <td>East</td>\n",
       "      <td>GEORGE</td>\n",
       "      <td>G1</td>\n",
       "      <td>1673</td>\n",
       "      <td>166</td>\n",
       "      <td>White</td>\n",
       "      <td>Male</td>\n",
       "      <td>2014</td>\n",
       "      <td>5</td>\n",
       "      <td>30</td>\n",
       "    </tr>\n",
       "  </tbody>\n",
       "</table>\n",
       "</div>"
      ],
      "text/plain": [
       "                      ID  Incident_Num           Incident_Type  \\\n",
       "0  2014UOF-0001-1377-203           251  Level 1 - Use of Force   \n",
       "1  2014UOF-0002-1098-166           218  Level 1 - Use of Force   \n",
       "\n",
       "        Occured_date_time Precinct   Sector Beat  Officer_ID  Subject_ID  \\\n",
       "0  06/07/2014 12:09:00 AM     East  CHARLIE   C2        1594         203   \n",
       "1  05/30/2014 02:06:00 PM     East   GEORGE   G1        1673         166   \n",
       "\n",
       "                Subject_Race Subject_Gender  Year  Month  Day  \n",
       "0  Black or African American           Male  2014      6    7  \n",
       "1                      White           Male  2014      5   30  "
      ]
     },
     "execution_count": 15,
     "metadata": {},
     "output_type": "execute_result"
    }
   ],
   "source": [
    "df.head(2)"
   ]
  },
  {
   "cell_type": "code",
   "execution_count": 9,
   "id": "e3070ded",
   "metadata": {},
   "outputs": [],
   "source": [
    "#df['Occured_date_time'] = pd.to_datetime(df['Occured_date_time'], format= '%m-%d-%Y %H:%M:%S', utc=True)"
   ]
  },
  {
   "cell_type": "code",
   "execution_count": 10,
   "id": "07e50c9a",
   "metadata": {},
   "outputs": [],
   "source": [
    "#date_col = pd.Datetime.strftime(df['Occured_date_time'])"
   ]
  },
  {
   "cell_type": "code",
   "execution_count": 11,
   "id": "4f9996b0",
   "metadata": {},
   "outputs": [],
   "source": [
    "#df['Occured_date_time'] = pd.to_datetime(df['Occured_date_time'], format='%H:%M:%S').dt.time"
   ]
  },
  {
   "cell_type": "code",
   "execution_count": 12,
   "id": "b53282e1",
   "metadata": {},
   "outputs": [],
   "source": [
    "#hora = datetime.strftime( obj, \"%H\")"
   ]
  },
  {
   "cell_type": "code",
   "execution_count": 13,
   "id": "132dc42e",
   "metadata": {},
   "outputs": [
    {
     "name": "stderr",
     "output_type": "stream",
     "text": [
      "/var/folders/8v/_48t0wh14vd4x9s__v5p78t40000gn/T/ipykernel_3153/1990292882.py:1: FutureWarning: The pandas.datetime class is deprecated and will be removed from pandas in a future version. Import from datetime module instead.\n",
      "  date_col1 = pd.datetime.strftime(df['Occured_date_time'])\n"
     ]
    },
    {
     "ename": "TypeError",
     "evalue": "descriptor 'strftime' for 'datetime.date' objects doesn't apply to a 'Series' object",
     "output_type": "error",
     "traceback": [
      "\u001b[0;31m---------------------------------------------------------------------------\u001b[0m",
      "\u001b[0;31mTypeError\u001b[0m                                 Traceback (most recent call last)",
      "Input \u001b[0;32mIn [13]\u001b[0m, in \u001b[0;36m<cell line: 1>\u001b[0;34m()\u001b[0m\n\u001b[0;32m----> 1\u001b[0m date_col1 \u001b[38;5;241m=\u001b[39m \u001b[43mpd\u001b[49m\u001b[38;5;241;43m.\u001b[39;49m\u001b[43mdatetime\u001b[49m\u001b[38;5;241;43m.\u001b[39;49m\u001b[43mstrftime\u001b[49m\u001b[43m(\u001b[49m\u001b[43mdf\u001b[49m\u001b[43m[\u001b[49m\u001b[38;5;124;43m'\u001b[39;49m\u001b[38;5;124;43mOccured_date_time\u001b[39;49m\u001b[38;5;124;43m'\u001b[39;49m\u001b[43m]\u001b[49m\u001b[43m)\u001b[49m\n",
      "\u001b[0;31mTypeError\u001b[0m: descriptor 'strftime' for 'datetime.date' objects doesn't apply to a 'Series' object"
     ]
    }
   ],
   "source": [
    "date_col1 = pd.datetime.strftime(df['Occured_date_time'])"
   ]
  },
  {
   "cell_type": "code",
   "execution_count": null,
   "id": "caad1d45",
   "metadata": {},
   "outputs": [],
   "source": []
  }
 ],
 "metadata": {
  "kernelspec": {
   "display_name": "Python 3 (ipykernel)",
   "language": "python",
   "name": "python3"
  },
  "language_info": {
   "codemirror_mode": {
    "name": "ipython",
    "version": 3
   },
   "file_extension": ".py",
   "mimetype": "text/x-python",
   "name": "python",
   "nbconvert_exporter": "python",
   "pygments_lexer": "ipython3",
   "version": "3.9.12"
  },
  "vscode": {
   "interpreter": {
    "hash": "aee8b7b246df8f9039afb4144a1f6fd8d2ca17a180786b69acc140d282b71a49"
   }
  }
 },
 "nbformat": 4,
 "nbformat_minor": 5
}
